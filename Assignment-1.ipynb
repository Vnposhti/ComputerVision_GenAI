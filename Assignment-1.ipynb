{
 "cells": [
  {
   "cell_type": "markdown",
   "metadata": {},
   "source": [
    "# Assignment-1\n",
    "Analyze a timelapse video where the transition of night to day is visible clearly.\n",
    " \n",
    "\n",
    "https://www.youtube.com/watch?v=kQM6Q9Axyx0\n",
    "\n",
    "- Input : video file path\n",
    "- Output : 20% Early morning, 10% night, 70% Day"
   ]
  },
  {
   "cell_type": "markdown",
   "metadata": {},
   "source": [
    "## 1. Calculate Brightness (Gray Scale Method)"
   ]
  },
  {
   "cell_type": "code",
   "execution_count": 14,
   "metadata": {},
   "outputs": [
    {
     "name": "stdout",
     "output_type": "stream",
     "text": [
      "Night: 17.61% \n",
      "Early morning: 15.82% \n",
      "Day: 66.57%\n"
     ]
    }
   ],
   "source": [
    "import cv2\n",
    "import numpy as np\n",
    "\n",
    "# Read the video file\n",
    "video = cv2.VideoCapture(\"./data/video.mp4\")\n",
    "\n",
    "# Initialize counters for each category\n",
    "night_count = 0\n",
    "early_morning_count = 0\n",
    "day_count = 0\n",
    "frame_count = 0\n",
    "\n",
    "# Loop through each frame of the video\n",
    "while True:\n",
    "    ret, frame = video.read()\n",
    "\n",
    "    if not ret:\n",
    "        break\n",
    "\n",
    "    # Convert frame to grayscale to calculate brightness\n",
    "    gray_frame = cv2.cvtColor(frame, cv2.COLOR_BGR2GRAY)\n",
    "    avg_brightness = np.mean(gray_frame) \n",
    "\n",
    "    # Categorize the frame based on brightness\n",
    "    if avg_brightness < 10:\n",
    "        night_count += 1\n",
    "    elif avg_brightness < 90:\n",
    "        early_morning_count += 1\n",
    "    else:\n",
    "        day_count += 1\n",
    "\n",
    "    frame_count += 1\n",
    "\n",
    "# Release the video capture object\n",
    "video.release()\n",
    "cv2.destroyAllWindows()\n",
    "\n",
    "# Calculate percentages\n",
    "night_percentage = (night_count / frame_count) * 100\n",
    "early_morning_percentage = (early_morning_count / frame_count) * 100\n",
    "day_percentage = (day_count / frame_count) * 100\n",
    "\n",
    "# Output the results\n",
    "print(f\"Night: {night_percentage:.2f}% \\nEarly morning: {early_morning_percentage:.2f}% \\nDay: {day_percentage:.2f}%\")"
   ]
  },
  {
   "cell_type": "code",
   "execution_count": 15,
   "metadata": {},
   "outputs": [
    {
     "name": "stdout",
     "output_type": "stream",
     "text": [
      "Night Frames (Less than 10 Brighness):  443\n",
      "Early morning Frames (Less than 90 Brighness):  398\n",
      "Day Frames (Greater than 90 Brightness):  1675\n",
      "Total No. of Frames:  2516\n"
     ]
    }
   ],
   "source": [
    "print(\"Night Frames (Less than 10 Brighness): \",night_count)\n",
    "print(\"Early morning Frames (Less than 90 Brighness): \",early_morning_count)\n",
    "print(\"Day Frames (Greater than 90 Brightness): \", day_count)\n",
    "print(\"Total No. of Frames: \",frame_count)"
   ]
  },
  {
   "cell_type": "markdown",
   "metadata": {},
   "source": [
    "## 2. Calculate warm-cool Effect (HSV Method)"
   ]
  },
  {
   "cell_type": "code",
   "execution_count": 16,
   "metadata": {},
   "outputs": [
    {
     "name": "stdout",
     "output_type": "stream",
     "text": [
      "Day: 87.20%\n",
      "Night: 12.80%\n"
     ]
    }
   ],
   "source": [
    "import cv2\n",
    "import numpy as np\n",
    "\n",
    "# Read the video file\n",
    "video = cv2.VideoCapture(\"./data/video.mp4\")\n",
    "\n",
    "# Initialize accumulators for warm and cool effects\n",
    "night_count = 0\n",
    "day_count = 0\n",
    "frame_count = 0\n",
    "\n",
    "# Loop through each frame of the video\n",
    "while True:\n",
    "    ret, frame = video.read()\n",
    "\n",
    "    if not ret:\n",
    "        break\n",
    "\n",
    "    # Convert frame to HSV\n",
    "    hsv_frame = cv2.cvtColor(frame, cv2.COLOR_BGR2HSV)\n",
    "    hue = hsv_frame[:, :, 0]\n",
    "    avg_hue = np.mean(hue)\n",
    "\n",
    "    # Categorize the frame based on hue range\n",
    "    if 45 <= avg_hue <= 135: # Warm colour range: 0-45 or 135-180\n",
    "        day_count += 1\n",
    "    else:\n",
    "        night_count += 1 # Cool colour range: 45-135\n",
    "\n",
    "    frame_count += 1\n",
    "\n",
    "video.release()\n",
    "cv2.destroyAllWindows()\n",
    "\n",
    "# Calculate warm and cool percentages\n",
    "day_percentage = day_count/frame_count * 100\n",
    "night_percentage = night_count / frame_count * 100\n",
    "\n",
    "# Output the results\n",
    "print(f\"Day: {day_percentage:.2f}%\\nNight: {night_percentage:.2f}%\")"
   ]
  },
  {
   "cell_type": "markdown",
   "metadata": {},
   "source": [
    "## 3. Calculate Value channel (Brightness) in HSV"
   ]
  },
  {
   "cell_type": "code",
   "execution_count": 17,
   "metadata": {},
   "outputs": [
    {
     "name": "stdout",
     "output_type": "stream",
     "text": [
      "Night: 16.53% \n",
      "Early morning: 8.94% \n",
      "Day: 74.52%\n"
     ]
    }
   ],
   "source": [
    "import cv2\n",
    "import numpy as np\n",
    "\n",
    "# Read the video file\n",
    "video = cv2.VideoCapture(\"./data/video.mp4\")\n",
    "\n",
    "# Initialize accumulators for warm and cool effects\n",
    "night_count = 0\n",
    "early_morning_count = 0\n",
    "day_count = 0\n",
    "frame_count = 0\n",
    "\n",
    "# Loop through each frame of the video\n",
    "while True:\n",
    "    ret, frame = video.read()\n",
    "\n",
    "    if not ret:\n",
    "        break\n",
    "\n",
    "    # Convert frame to HSV\n",
    "    hsv_frame = cv2.cvtColor(frame, cv2.COLOR_BGR2HSV)\n",
    "    brightness = hsv_frame[:, :, 2]\n",
    "    avg_brightness = np.mean(brightness)\n",
    "    \n",
    "    # Categorize the frame based on brightness\n",
    "    if avg_brightness < 10:\n",
    "        night_count += 1\n",
    "    elif avg_brightness < 90:\n",
    "        early_morning_count += 1\n",
    "    else:\n",
    "        day_count += 1\n",
    "    \n",
    "    frame_count += 1\n",
    "\n",
    "video.release()\n",
    "cv2.destroyAllWindows()\n",
    "\n",
    "# Calculate percentages\n",
    "night_percentage = (night_count / frame_count) * 100\n",
    "early_morning_percentage = (early_morning_count / frame_count) * 100\n",
    "day_percentage = (day_count / frame_count) * 100\n",
    "\n",
    "# Output the results\n",
    "print(f\"Night: {night_percentage:.2f}% \\nEarly morning: {early_morning_percentage:.2f}% \\nDay: {day_percentage:.2f}%\")"
   ]
  }
 ],
 "metadata": {
  "kernelspec": {
   "display_name": "cv_live",
   "language": "python",
   "name": "python3"
  },
  "language_info": {
   "codemirror_mode": {
    "name": "ipython",
    "version": 3
   },
   "file_extension": ".py",
   "mimetype": "text/x-python",
   "name": "python",
   "nbconvert_exporter": "python",
   "pygments_lexer": "ipython3",
   "version": "3.11.9"
  }
 },
 "nbformat": 4,
 "nbformat_minor": 2
}
